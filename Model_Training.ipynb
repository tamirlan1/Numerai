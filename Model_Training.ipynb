{
 "cells": [
  {
   "cell_type": "code",
   "execution_count": 20,
   "metadata": {
    "collapsed": false
   },
   "outputs": [],
   "source": [
    "import pandas as pd\n",
    "import numpy as np\n",
    "from sklearn import metrics, preprocessing, linear_model\n",
    "from sklearn.metrics import log_loss, make_scorer\n",
    "from sklearn.ensemble import RandomForestClassifier\n",
    "from sklearn.grid_search import RandomizedSearchCV\n",
    "from time import time\n"
   ]
  },
  {
   "cell_type": "code",
   "execution_count": 2,
   "metadata": {
    "collapsed": false
   },
   "outputs": [],
   "source": [
    "competition = '53'\n",
    "# Set seed for reproducibility\n",
    "np.random.seed(0)\n",
    "\n",
    "# Load the data from the CSV files\n",
    "training_data = pd.read_csv('numerai_datasets' + competition + '/numerai_training_data.csv', header=0)\n",
    "prediction_data = pd.read_csv('numerai_datasets' + competition + '/numerai_tournament_data.csv', header=0)\n",
    "\n",
    "\n",
    "# Transform the loaded CSV data into numpy arrays\n",
    "features = [f for f in list(training_data) if \"feature\" in f]\n",
    "X = training_data[features]\n",
    "Y = training_data[\"target\"]\n",
    "x_prediction = prediction_data[features]\n",
    "x_validation = prediction_data[prediction_data['data_type'] == 'validation'][features]\n",
    "y_validation = prediction_data[\"target\"][prediction_data['data_type'] == 'validation']\n",
    "ids = prediction_data[\"id\"]"
   ]
  },
  {
   "cell_type": "markdown",
   "metadata": {},
   "source": [
    "# Logistic Regression"
   ]
  },
  {
   "cell_type": "code",
   "execution_count": 3,
   "metadata": {
    "collapsed": false
   },
   "outputs": [
    {
     "name": "stdout",
     "output_type": "stream",
     "text": [
      "Training...\n"
     ]
    },
    {
     "data": {
      "text/plain": [
       "LogisticRegression(C=1.0, class_weight=None, dual=False, fit_intercept=True,\n",
       "          intercept_scaling=1, max_iter=100, multi_class='ovr', n_jobs=-1,\n",
       "          penalty='l2', random_state=None, solver='liblinear', tol=0.0001,\n",
       "          verbose=0, warm_start=False)"
      ]
     },
     "execution_count": 3,
     "metadata": {},
     "output_type": "execute_result"
    }
   ],
   "source": [
    "# Logistic Regression\n",
    "model = linear_model.LogisticRegression(n_jobs=-1)\n",
    "# model = RandomForestClassifier(n_estimators=1000, max_features=0.5, max_depth=20, min_samples_split=20, random_state=0, n_jobs=-1)\n",
    "print(\"Training...\")\n",
    "# Your model is trained on the training_data\n",
    "model.fit(X, Y)"
   ]
  },
  {
   "cell_type": "code",
   "execution_count": null,
   "metadata": {
    "collapsed": true
   },
   "outputs": [],
   "source": [
    "train_loss = log_loss(Y, pd.DataFrame(model.predict_proba(X)).as_matrix())\n",
    "print 'Train Loss:', train_loss\n",
    "val_loss = log_loss(y_validation, pd.DataFrame(model.predict_proba(x_validation)).as_matrix())\n",
    "print 'Validation Loss:', val_loss"
   ]
  },
  {
   "cell_type": "code",
   "execution_count": null,
   "metadata": {
    "collapsed": true
   },
   "outputs": [],
   "source": [
    "print(\"Predicting...\")\n",
    "# Your trained model is now used to make predictions on the numerai_tournament_data\n",
    "# The model returns two columns: [probability of 0, probability of 1]\n",
    "# We are just interested in the probability that the target is 1.\n",
    "y_prediction = model.predict_proba(x_prediction)\n",
    "results = y_prediction[:, 1]\n",
    "results_df = pd.DataFrame(data={'probability':results})\n",
    "joined = pd.DataFrame(ids).join(results_df)\n",
    "\n",
    "print(\"Writing predictions to predictions.csv\")\n",
    "# Save the predictions out to a CSV file\n",
    "joined.to_csv('numerai_datasets' + competition + '/predictions_LogReg.csv\", index=False)\n",
    "# Now you can upload these predictions on numer.ai\n",
    "print(\"Done\")"
   ]
  },
  {
   "cell_type": "markdown",
   "metadata": {},
   "source": [
    "# Random Forest"
   ]
  },
  {
   "cell_type": "code",
   "execution_count": 23,
   "metadata": {
    "collapsed": false
   },
   "outputs": [],
   "source": [
    "log_scoring=make_scorer(log_loss, greater_is_better=False, needs_proba=True)\n",
    "clf = RandomForestClassifier()\n",
    "# specify parameters and distributions to sample from\n",
    "param_dist = {\"max_depth\": range(5,15),\n",
    "              \"max_features\": ['sqrt',0.2, 0.3, 0.4, 0.5],\n",
    "              \"n_estimators\": [300, 400, 500, 600, 700, 800],\n",
    "             \"min_samples_split\": [None, 100, 300, 400, 500, 600, 800, 1000],\n",
    "             \"min_samples_leaf\": [None, 20, 40, 50, 70 ,100]}\n",
    "\n",
    "# run randomized search\n",
    "n_iter_search = 10\n",
    "random_search = RandomizedSearchCV(clf, param_distributions=param_dist,\n",
    "                                   n_iter=n_iter_search, cv=5, n_jobs=3, scoring=log_scoring, verbose=1)"
   ]
  },
  {
   "cell_type": "code",
   "execution_count": null,
   "metadata": {
    "collapsed": false
   },
   "outputs": [
    {
     "name": "stdout",
     "output_type": "stream",
     "text": [
      "Fitting 5 folds for each of 10 candidates, totalling 50 fits\n"
     ]
    }
   ],
   "source": [
    "start = time()\n",
    "search = random_search.fit(X, Y)\n",
    "print(\"RandomizedSearchCV took %.2f seconds for %d candidates\"\n",
    "      \" parameter settings.\" % ((time() - start), n_iter_search))\n",
    "# report(random_search.cv_results_)"
   ]
  },
  {
   "cell_type": "code",
   "execution_count": 11,
   "metadata": {
    "collapsed": false
   },
   "outputs": [
    {
     "name": "stdout",
     "output_type": "stream",
     "text": [
      "Training...\n"
     ]
    },
    {
     "data": {
      "text/plain": [
       "RandomForestClassifier(bootstrap=True, class_weight=None, criterion='gini',\n",
       "            max_depth=10, max_features='sqrt', max_leaf_nodes=None,\n",
       "            min_impurity_split=1e-07, min_samples_leaf=1,\n",
       "            min_samples_split=20, min_weight_fraction_leaf=0.0,\n",
       "            n_estimators=10, n_jobs=-1, oob_score=False, random_state=0,\n",
       "            verbose=0, warm_start=False)"
      ]
     },
     "execution_count": 11,
     "metadata": {},
     "output_type": "execute_result"
    }
   ],
   "source": [
    "# Random Forest\n",
    "model = RandomForestClassifier(n_estimators=10, max_features='sqrt', max_depth=10, min_samples_split=20, random_state=0, n_jobs=-1)\n",
    "print(\"Training...\")\n",
    "# Your model is trained on the training_data\n",
    "model.fit(X, Y)"
   ]
  },
  {
   "cell_type": "code",
   "execution_count": 12,
   "metadata": {
    "collapsed": false
   },
   "outputs": [
    {
     "name": "stdout",
     "output_type": "stream",
     "text": [
      "Train Loss: 0.67897489267\n",
      "Validation Loss: 0.694670352826\n"
     ]
    }
   ],
   "source": [
    "train_loss = log_loss(Y, pd.DataFrame(model.predict_proba(X)).as_matrix())\n",
    "print 'Train Loss:', train_loss\n",
    "val_loss = log_loss(y_validation, pd.DataFrame(model.predict_proba(x_validation)).as_matrix())\n",
    "print 'Validation Loss:', val_loss"
   ]
  },
  {
   "cell_type": "code",
   "execution_count": 7,
   "metadata": {
    "collapsed": false
   },
   "outputs": [
    {
     "name": "stdout",
     "output_type": "stream",
     "text": [
      "Predicting...\n",
      "Writing predictions to predictions.csv\n"
     ]
    }
   ],
   "source": [
    "print(\"Predicting...\")\n",
    "# Your trained model is now used to make predictions on the numerai_tournament_data\n",
    "# The model returns two columns: [probability of 0, probability of 1]\n",
    "# We are just interested in the probability that the target is 1.\n",
    "y_prediction = model.predict_proba(x_prediction)\n",
    "results = y_prediction[:, 1]\n",
    "results_df = pd.DataFrame(data={'probability':results})\n",
    "joined = pd.DataFrame(ids).join(results_df)\n",
    "\n",
    "print(\"Writing predictions to predictions.csv\")\n",
    "# Save the predictions out to a CSV file\n",
    "joined.to_csv('numerai_datasets' + competition + '/predictions_RandomForest.csv\", index=False)\n",
    "# Now you can upload these predictions on numer.ai\n",
    "print(\"Done\")"
   ]
  }
 ],
 "metadata": {
  "kernelspec": {
   "display_name": "Python 2",
   "language": "python",
   "name": "python2"
  },
  "language_info": {
   "codemirror_mode": {
    "name": "ipython",
    "version": 2
   },
   "file_extension": ".py",
   "mimetype": "text/x-python",
   "name": "python",
   "nbconvert_exporter": "python",
   "pygments_lexer": "ipython2",
   "version": "2.7.13"
  }
 },
 "nbformat": 4,
 "nbformat_minor": 2
}
