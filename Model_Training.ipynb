{
 "cells": [
  {
   "cell_type": "code",
   "execution_count": 104,
   "metadata": {
    "collapsed": false,
    "scrolled": true
   },
   "outputs": [],
   "source": [
    "import pandas as pd\n",
    "import numpy as np\n",
    "from time import time\n",
    "import math\n",
    "from sklearn import metrics, preprocessing, linear_model\n",
    "from sklearn.metrics import log_loss, make_scorer\n",
    "from sklearn.model_selection import GroupKFold\n",
    "from sklearn.grid_search import RandomizedSearchCV, GridSearchCV\n",
    "\n",
    "import xgboost as xgb\n",
    "from sklearn.ensemble import RandomForestClassifier\n",
    "from sklearn.ensemble import GradientBoostingClassifier\n",
    "from sklearn.neighbors import KNeighborsClassifier\n",
    "from sklearn.svm import SVC\n",
    "from xgboost.sklearn import XGBClassifier\n",
    "# from sklearn.gaussian_process import GaussianProcessClassifier\n",
    "# from sklearn.gaussian_process.kernels import RBF\n",
    "# from sklearn.ensemble import AdaBoostClassifier\n",
    "# from sklearn.naive_bayes import GaussianNB\n",
    "# from sklearn.discriminant_analysis import QuadraticDiscriminantAnalysis"
   ]
  },
  {
   "cell_type": "code",
   "execution_count": 21,
   "metadata": {
    "collapsed": false
   },
   "outputs": [],
   "source": [
    "competition = '53'\n",
    "# Set seed for reproducibility\n",
    "np.random.seed(0)\n",
    "\n",
    "# Load the data from the CSV files\n",
    "training_data = pd.read_csv('numerai_datasets' + competition + '/numerai_training_data.csv', header=0)\n",
    "prediction_data = pd.read_csv('numerai_datasets' + competition + '/numerai_tournament_data.csv', header=0)\n",
    "\n",
    "\n",
    "# Transform the loaded CSV data into numpy arrays\n",
    "features = [f for f in list(training_data) if \"feature\" in f]\n",
    "X = training_data[features]\n",
    "Y = training_data[\"target\"]\n",
    "x_prediction = prediction_data[features]\n",
    "val_data = prediction_data[prediction_data['data_type'] == 'validation']\n",
    "x_validation = val_data[features]\n",
    "y_validation = val_data[\"target\"]\n",
    "ids = prediction_data[\"id\"]"
   ]
  },
  {
   "cell_type": "markdown",
   "metadata": {},
   "source": [
    "# Prepare CV, functions"
   ]
  },
  {
   "cell_type": "code",
   "execution_count": 22,
   "metadata": {
    "collapsed": false,
    "scrolled": true
   },
   "outputs": [
    {
     "name": "stdout",
     "output_type": "stream",
     "text": [
      "train [     0      1      2 ..., 108402 108403 108404] [  365   366   367 ..., 94972 94973 94974]\n",
      "train [     0      1      2 ..., 108402 108403 108404] [   124    125    126 ..., 100379 100380 100381]\n",
      "train [     0      1      2 ..., 105707 105708 105709] [   988    989    990 ..., 108402 108403 108404]\n",
      "train [   124    125    126 ..., 108402 108403 108404] [     0      1      2 ..., 104386 104387 104388]\n",
      "train [     0      1      2 ..., 108402 108403 108404] [   768    769    770 ..., 105707 105708 105709]\n"
     ]
    }
   ],
   "source": [
    "group_kfold = GroupKFold(n_splits=5)\n",
    "group = training_data.era.apply(lambda x: int(x[3:]))\n",
    "cv_split = list(group_kfold.split(X, Y, group))\n",
    "for a, b in cv_split:\n",
    "    print 'train', a, b\n",
    "#     print 'test', b, X[b], y[b]"
   ]
  },
  {
   "cell_type": "code",
   "execution_count": 85,
   "metadata": {
    "collapsed": true
   },
   "outputs": [],
   "source": [
    "def consistency(model, XGB=False):\n",
    "    print 'Threshold loss', -math.log(0.5)\n",
    "    count = 0\n",
    "    good = 0\n",
    "    for era in val_data.era.unique():\n",
    "        x_val = val_data[val_data.era == era][features]\n",
    "        y_val = val_data[val_data.era == era]['target']\n",
    "        if XGB:\n",
    "            val = xgb.DMatrix(x_val.values, label=y_val.values)\n",
    "            val_loss = log_loss(y_val, pd.DataFrame(model.predict(val)).as_matrix())\n",
    "        else:\n",
    "            val_loss = log_loss(y_val, pd.DataFrame(model.predict_proba(x_val)).as_matrix())\n",
    "        print 'Validation Loss:', val_loss\n",
    "        count += 1\n",
    "        if val_loss < -math.log(0.5):\n",
    "            good += 1\n",
    "\n",
    "    print 'Count =', count\n",
    "    print 'Good =', good \n",
    "    print 'Percent of Good =', good*100.0/count"
   ]
  },
  {
   "cell_type": "code",
   "execution_count": 80,
   "metadata": {
    "collapsed": true
   },
   "outputs": [],
   "source": [
    "# def loss(model):\n",
    "#     train_loss = log_loss(Y, pd.DataFrame(model.predict_proba(X)).as_matrix())\n",
    "#     print 'Train Loss:', train_loss\n",
    "#     val_loss = log_loss(y_validation, pd.DataFrame(model.predict_proba(x_validation)).as_matrix())\n",
    "#     print 'Validation Loss:', val_loss\n",
    "def loss(model, x_tr, y_tr, x_val, y_val, proba=True):\n",
    "    if proba:\n",
    "        train_loss = log_loss(y_tr, pd.DataFrame(model.predict_proba(x_tr)).as_matrix())\n",
    "        val_loss = log_loss(y_val, pd.DataFrame(model.predict_proba(x_val)).as_matrix())\n",
    "    else:\n",
    "        train_loss = log_loss(y_tr, pd.DataFrame(model.predict(x_tr)).as_matrix())\n",
    "        val_loss = log_loss(y_val, pd.DataFrame(model.predict(x_val)).as_matrix())\n",
    "        \n",
    "    print 'Train Loss:', train_loss\n",
    "    print 'Validation Loss:', val_loss"
   ]
  },
  {
   "cell_type": "code",
   "execution_count": 98,
   "metadata": {
    "collapsed": false
   },
   "outputs": [],
   "source": [
    "def write(model, name, XGB=False):\n",
    "    global competition\n",
    "    print(\"Predicting...\")\n",
    "    # Your trained model is now used to make predictions on the numerai_tournament_data\n",
    "    # The model returns two columns: [probability of 0, probability of 1]\n",
    "    # We are just interested in the probability that the target is 1.\n",
    "    if XGB:\n",
    "        x_pred = xgb.DMatrix(x_prediction.values)\n",
    "        y_prediction = model.predict(x_pred)\n",
    "    else:\n",
    "        y_prediction = model.predict_proba(x_prediction)\n",
    "    results = y_prediction[:, 1]\n",
    "    results_df = pd.DataFrame(data={'probability':results})\n",
    "    joined = pd.DataFrame(ids).join(results_df)\n",
    "\n",
    "    print(\"Writing predictions to predictions.csv\")\n",
    "    # Save the predictions out to a CSV file\n",
    "    joined.to_csv('numerai_datasets' + competition + '/predictions_' + name + '.csv', index=False)\n",
    "    # Now you can upload these predictions on numer.ai\n",
    "    print(\"Done\")"
   ]
  },
  {
   "cell_type": "markdown",
   "metadata": {},
   "source": [
    "# Logistic Regression"
   ]
  },
  {
   "cell_type": "code",
   "execution_count": 64,
   "metadata": {
    "collapsed": false
   },
   "outputs": [
    {
     "name": "stdout",
     "output_type": "stream",
     "text": [
      "Training...\n"
     ]
    },
    {
     "data": {
      "text/plain": [
       "LogisticRegression(C=0.1, class_weight=None, dual=False, fit_intercept=True,\n",
       "          intercept_scaling=1, max_iter=100, multi_class='ovr', n_jobs=-1,\n",
       "          penalty='l1', random_state=None, solver='liblinear', tol=0.0001,\n",
       "          verbose=0, warm_start=False)"
      ]
     },
     "execution_count": 64,
     "metadata": {},
     "output_type": "execute_result"
    }
   ],
   "source": [
    "model = linear_model.LogisticRegression(penalty='l1', n_jobs=-1, C=0.1)\n",
    "print(\"Training...\")\n",
    "model.fit(X, Y)"
   ]
  },
  {
   "cell_type": "code",
   "execution_count": 65,
   "metadata": {
    "collapsed": false
   },
   "outputs": [
    {
     "name": "stdout",
     "output_type": "stream",
     "text": [
      "Train Loss: 0.692487817875\n",
      "Validation Loss: 0.692596713598\n"
     ]
    }
   ],
   "source": [
    "loss(model, x_tr=X, y_tr=Y, x_val=x_validation, y_val=y_validation, proba=True)"
   ]
  },
  {
   "cell_type": "code",
   "execution_count": 66,
   "metadata": {
    "collapsed": false
   },
   "outputs": [
    {
     "name": "stdout",
     "output_type": "stream",
     "text": [
      "Validation Loss: 0.691643299389\n",
      "Validation Loss: 0.692559359783\n",
      "Validation Loss: 0.692949953109\n",
      "Validation Loss: 0.692003647106\n",
      "Validation Loss: 0.692688963808\n",
      "Validation Loss: 0.69293531109\n",
      "Validation Loss: 0.692992090129\n",
      "Validation Loss: 0.692294311575\n",
      "Validation Loss: 0.69125532033\n",
      "Validation Loss: 0.693065943863\n",
      "Validation Loss: 0.693425825007\n",
      "Validation Loss: 0.693287082366\n",
      "Count = 12\n",
      "Good = 10\n",
      "Percent of Good = 83.3333333333\n"
     ]
    }
   ],
   "source": [
    "consistency(model)"
   ]
  },
  {
   "cell_type": "code",
   "execution_count": null,
   "metadata": {
    "collapsed": true
   },
   "outputs": [],
   "source": [
    "write(model, 'LogisticRegression')"
   ]
  },
  {
   "cell_type": "markdown",
   "metadata": {},
   "source": [
    "# Random Forest"
   ]
  },
  {
   "cell_type": "code",
   "execution_count": 35,
   "metadata": {
    "collapsed": false
   },
   "outputs": [],
   "source": [
    "log_scoring=make_scorer(log_loss, greater_is_better=False, needs_proba=True)\n",
    "clf = RandomForestClassifier()\n",
    "# specify parameters and distributions to sample from\n",
    "param_dist = {\"max_depth\": range(5,15),\n",
    "              \"max_features\": ['sqrt',0.2, 0.3, 0.4, 0.5],\n",
    "              \"n_estimators\": [300, 400, 500, 600, 700, 800],\n",
    "             \"min_samples_split\": [100, 300, 400, 500, 600, 800, 1000],\n",
    "             \"min_samples_leaf\": [20, 40, 50, 70 ,100]}\n",
    "\n",
    "# run randomized search\n",
    "n_iter_search = 100\n",
    "random_search = RandomizedSearchCV(clf, param_distributions=param_dist,\n",
    "                                   n_iter=n_iter_search, cv=cv_split, n_jobs=-1, scoring=log_scoring, verbose=1)"
   ]
  },
  {
   "cell_type": "code",
   "execution_count": 36,
   "metadata": {
    "collapsed": false
   },
   "outputs": [
    {
     "name": "stdout",
     "output_type": "stream",
     "text": [
      "Fitting 5 folds for each of 100 candidates, totalling 500 fits\n"
     ]
    },
    {
     "name": "stderr",
     "output_type": "stream",
     "text": [
      "[Parallel(n_jobs=-1)]: Done 104 tasks      | elapsed: 12.9min\n",
      "[Parallel(n_jobs=-1)]: Done 354 tasks      | elapsed: 43.3min\n",
      "[Parallel(n_jobs=-1)]: Done 500 out of 500 | elapsed: 62.8min finished\n"
     ]
    },
    {
     "name": "stdout",
     "output_type": "stream",
     "text": [
      "RandomizedSearchCV took 3849.46 seconds for 100 candidates parameter settings.\n"
     ]
    }
   ],
   "source": [
    "start = time()\n",
    "search = random_search.fit(X, Y)\n",
    "print(\"RandomizedSearchCV took %.2f seconds for %d candidates\"\n",
    "      \" parameter settings.\" % ((time() - start), n_iter_search))\n",
    "# report(random_search.cv_results_)"
   ]
  },
  {
   "cell_type": "code",
   "execution_count": 37,
   "metadata": {
    "collapsed": false
   },
   "outputs": [
    {
     "data": {
      "text/plain": [
       "[mean: -0.69275, std: 0.00057, params: {'n_estimators': 500, 'min_samples_split': 100, 'max_depth': 7, 'max_features': 0.4, 'min_samples_leaf': 20},\n",
       " mean: -0.69295, std: 0.00080, params: {'n_estimators': 800, 'min_samples_split': 400, 'max_depth': 14, 'max_features': 0.2, 'min_samples_leaf': 100},\n",
       " mean: -0.69273, std: 0.00058, params: {'n_estimators': 300, 'min_samples_split': 800, 'max_depth': 8, 'max_features': 'sqrt', 'min_samples_leaf': 50},\n",
       " mean: -0.69274, std: 0.00068, params: {'n_estimators': 800, 'min_samples_split': 600, 'max_depth': 9, 'max_features': 0.4, 'min_samples_leaf': 20},\n",
       " mean: -0.69287, std: 0.00081, params: {'n_estimators': 600, 'min_samples_split': 600, 'max_depth': 13, 'max_features': 0.4, 'min_samples_leaf': 100},\n",
       " mean: -0.69279, std: 0.00070, params: {'n_estimators': 400, 'min_samples_split': 1000, 'max_depth': 12, 'max_features': 0.3, 'min_samples_leaf': 50},\n",
       " mean: -0.69276, std: 0.00067, params: {'n_estimators': 800, 'min_samples_split': 100, 'max_depth': 9, 'max_features': 'sqrt', 'min_samples_leaf': 100},\n",
       " mean: -0.69277, std: 0.00069, params: {'n_estimators': 300, 'min_samples_split': 1000, 'max_depth': 10, 'max_features': 0.3, 'min_samples_leaf': 100},\n",
       " mean: -0.69277, std: 0.00070, params: {'n_estimators': 300, 'min_samples_split': 600, 'max_depth': 11, 'max_features': 0.3, 'min_samples_leaf': 20},\n",
       " mean: -0.69273, std: 0.00057, params: {'n_estimators': 300, 'min_samples_split': 600, 'max_depth': 8, 'max_features': 0.2, 'min_samples_leaf': 50},\n",
       " mean: -0.69274, std: 0.00048, params: {'n_estimators': 600, 'min_samples_split': 800, 'max_depth': 5, 'max_features': 0.4, 'min_samples_leaf': 40},\n",
       " mean: -0.69272, std: 0.00055, params: {'n_estimators': 400, 'min_samples_split': 1000, 'max_depth': 7, 'max_features': 0.3, 'min_samples_leaf': 40},\n",
       " mean: -0.69283, std: 0.00075, params: {'n_estimators': 400, 'min_samples_split': 1000, 'max_depth': 14, 'max_features': 0.5, 'min_samples_leaf': 20},\n",
       " mean: -0.69273, std: 0.00053, params: {'n_estimators': 500, 'min_samples_split': 1000, 'max_depth': 7, 'max_features': 'sqrt', 'min_samples_leaf': 50},\n",
       " mean: -0.69277, std: 0.00068, params: {'n_estimators': 700, 'min_samples_split': 1000, 'max_depth': 12, 'max_features': 0.2, 'min_samples_leaf': 100},\n",
       " mean: -0.69271, std: 0.00059, params: {'n_estimators': 800, 'min_samples_split': 1000, 'max_depth': 7, 'max_features': 0.4, 'min_samples_leaf': 70},\n",
       " mean: -0.69290, std: 0.00079, params: {'n_estimators': 800, 'min_samples_split': 500, 'max_depth': 14, 'max_features': 0.3, 'min_samples_leaf': 20},\n",
       " mean: -0.69275, std: 0.00047, params: {'n_estimators': 600, 'min_samples_split': 800, 'max_depth': 5, 'max_features': 0.3, 'min_samples_leaf': 50},\n",
       " mean: -0.69295, std: 0.00080, params: {'n_estimators': 300, 'min_samples_split': 100, 'max_depth': 10, 'max_features': 0.5, 'min_samples_leaf': 70},\n",
       " mean: -0.69278, std: 0.00075, params: {'n_estimators': 600, 'min_samples_split': 800, 'max_depth': 11, 'max_features': 0.3, 'min_samples_leaf': 100},\n",
       " mean: -0.69278, std: 0.00074, params: {'n_estimators': 300, 'min_samples_split': 800, 'max_depth': 10, 'max_features': 0.4, 'min_samples_leaf': 70},\n",
       " mean: -0.69273, std: 0.00054, params: {'n_estimators': 600, 'min_samples_split': 500, 'max_depth': 7, 'max_features': 'sqrt', 'min_samples_leaf': 40},\n",
       " mean: -0.69276, std: 0.00069, params: {'n_estimators': 500, 'min_samples_split': 800, 'max_depth': 9, 'max_features': 0.5, 'min_samples_leaf': 20},\n",
       " mean: -0.69273, std: 0.00063, params: {'n_estimators': 600, 'min_samples_split': 500, 'max_depth': 9, 'max_features': 0.4, 'min_samples_leaf': 20},\n",
       " mean: -0.69283, std: 0.00077, params: {'n_estimators': 800, 'min_samples_split': 500, 'max_depth': 12, 'max_features': 0.3, 'min_samples_leaf': 50},\n",
       " mean: -0.69271, std: 0.00057, params: {'n_estimators': 300, 'min_samples_split': 800, 'max_depth': 6, 'max_features': 0.5, 'min_samples_leaf': 70},\n",
       " mean: -0.69271, std: 0.00057, params: {'n_estimators': 800, 'min_samples_split': 500, 'max_depth': 6, 'max_features': 0.4, 'min_samples_leaf': 100},\n",
       " mean: -0.69277, std: 0.00064, params: {'n_estimators': 600, 'min_samples_split': 1000, 'max_depth': 12, 'max_features': 0.2, 'min_samples_leaf': 20},\n",
       " mean: -0.69272, std: 0.00055, params: {'n_estimators': 300, 'min_samples_split': 500, 'max_depth': 7, 'max_features': 0.2, 'min_samples_leaf': 100},\n",
       " mean: -0.69288, std: 0.00080, params: {'n_estimators': 800, 'min_samples_split': 400, 'max_depth': 12, 'max_features': 0.5, 'min_samples_leaf': 50},\n",
       " mean: -0.69283, std: 0.00079, params: {'n_estimators': 300, 'min_samples_split': 1000, 'max_depth': 14, 'max_features': 0.4, 'min_samples_leaf': 50},\n",
       " mean: -0.69273, std: 0.00047, params: {'n_estimators': 800, 'min_samples_split': 1000, 'max_depth': 5, 'max_features': 0.4, 'min_samples_leaf': 50},\n",
       " mean: -0.69272, std: 0.00048, params: {'n_estimators': 800, 'min_samples_split': 1000, 'max_depth': 5, 'max_features': 0.4, 'min_samples_leaf': 70},\n",
       " mean: -0.69275, std: 0.00045, params: {'n_estimators': 800, 'min_samples_split': 600, 'max_depth': 5, 'max_features': 0.4, 'min_samples_leaf': 20},\n",
       " mean: -0.69273, std: 0.00058, params: {'n_estimators': 600, 'min_samples_split': 600, 'max_depth': 8, 'max_features': 'sqrt', 'min_samples_leaf': 40},\n",
       " mean: -0.69312, std: 0.00075, params: {'n_estimators': 800, 'min_samples_split': 100, 'max_depth': 13, 'max_features': 0.2, 'min_samples_leaf': 20},\n",
       " mean: -0.69279, std: 0.00073, params: {'n_estimators': 700, 'min_samples_split': 500, 'max_depth': 12, 'max_features': 'sqrt', 'min_samples_leaf': 50},\n",
       " mean: -0.69274, std: 0.00057, params: {'n_estimators': 400, 'min_samples_split': 500, 'max_depth': 8, 'max_features': 'sqrt', 'min_samples_leaf': 100},\n",
       " mean: -0.69273, std: 0.00056, params: {'n_estimators': 600, 'min_samples_split': 400, 'max_depth': 7, 'max_features': 0.4, 'min_samples_leaf': 20},\n",
       " mean: -0.69271, std: 0.00064, params: {'n_estimators': 400, 'min_samples_split': 800, 'max_depth': 9, 'max_features': 0.3, 'min_samples_leaf': 50},\n",
       " mean: -0.69309, std: 0.00086, params: {'n_estimators': 300, 'min_samples_split': 100, 'max_depth': 13, 'max_features': 0.2, 'min_samples_leaf': 70},\n",
       " mean: -0.69285, std: 0.00074, params: {'n_estimators': 600, 'min_samples_split': 300, 'max_depth': 11, 'max_features': 0.2, 'min_samples_leaf': 100},\n",
       " mean: -0.69275, std: 0.00047, params: {'n_estimators': 300, 'min_samples_split': 100, 'max_depth': 5, 'max_features': 0.4, 'min_samples_leaf': 50},\n",
       " mean: -0.69271, std: 0.00058, params: {'n_estimators': 300, 'min_samples_split': 600, 'max_depth': 7, 'max_features': 'sqrt', 'min_samples_leaf': 100},\n",
       " mean: -0.69282, std: 0.00081, params: {'n_estimators': 600, 'min_samples_split': 600, 'max_depth': 12, 'max_features': 0.5, 'min_samples_leaf': 70},\n",
       " mean: -0.69274, std: 0.00050, params: {'n_estimators': 400, 'min_samples_split': 800, 'max_depth': 6, 'max_features': 'sqrt', 'min_samples_leaf': 70},\n",
       " mean: -0.69275, std: 0.00072, params: {'n_estimators': 700, 'min_samples_split': 1000, 'max_depth': 10, 'max_features': 0.5, 'min_samples_leaf': 40},\n",
       " mean: -0.69300, std: 0.00085, params: {'n_estimators': 300, 'min_samples_split': 300, 'max_depth': 13, 'max_features': 0.3, 'min_samples_leaf': 100},\n",
       " mean: -0.69287, std: 0.00083, params: {'n_estimators': 300, 'min_samples_split': 1000, 'max_depth': 14, 'max_features': 0.5, 'min_samples_leaf': 40},\n",
       " mean: -0.69290, std: 0.00082, params: {'n_estimators': 500, 'min_samples_split': 600, 'max_depth': 14, 'max_features': 0.4, 'min_samples_leaf': 40},\n",
       " mean: -0.69275, std: 0.00075, params: {'n_estimators': 600, 'min_samples_split': 1000, 'max_depth': 11, 'max_features': 0.5, 'min_samples_leaf': 40},\n",
       " mean: -0.69279, std: 0.00074, params: {'n_estimators': 600, 'min_samples_split': 400, 'max_depth': 10, 'max_features': 0.4, 'min_samples_leaf': 70},\n",
       " mean: -0.69276, std: 0.00063, params: {'n_estimators': 700, 'min_samples_split': 300, 'max_depth': 8, 'max_features': 0.3, 'min_samples_leaf': 40},\n",
       " mean: -0.69273, std: 0.00059, params: {'n_estimators': 500, 'min_samples_split': 800, 'max_depth': 8, 'max_features': 0.2, 'min_samples_leaf': 100},\n",
       " mean: -0.69316, std: 0.00087, params: {'n_estimators': 500, 'min_samples_split': 100, 'max_depth': 13, 'max_features': 0.3, 'min_samples_leaf': 70},\n",
       " mean: -0.69271, std: 0.00054, params: {'n_estimators': 600, 'min_samples_split': 100, 'max_depth': 6, 'max_features': 0.3, 'min_samples_leaf': 100},\n",
       " mean: -0.69274, std: 0.00069, params: {'n_estimators': 700, 'min_samples_split': 600, 'max_depth': 9, 'max_features': 0.4, 'min_samples_leaf': 70},\n",
       " mean: -0.69272, std: 0.00062, params: {'n_estimators': 600, 'min_samples_split': 600, 'max_depth': 9, 'max_features': 'sqrt', 'min_samples_leaf': 70},\n",
       " mean: -0.69302, std: 0.00084, params: {'n_estimators': 400, 'min_samples_split': 300, 'max_depth': 14, 'max_features': 0.5, 'min_samples_leaf': 20},\n",
       " mean: -0.69288, std: 0.00072, params: {'n_estimators': 300, 'min_samples_split': 400, 'max_depth': 13, 'max_features': 0.2, 'min_samples_leaf': 20},\n",
       " mean: -0.69279, std: 0.00076, params: {'n_estimators': 500, 'min_samples_split': 600, 'max_depth': 11, 'max_features': 0.5, 'min_samples_leaf': 50},\n",
       " mean: -0.69272, std: 0.00071, params: {'n_estimators': 800, 'min_samples_split': 600, 'max_depth': 8, 'max_features': 0.5, 'min_samples_leaf': 100},\n",
       " mean: -0.69271, std: 0.00056, params: {'n_estimators': 400, 'min_samples_split': 400, 'max_depth': 7, 'max_features': 0.3, 'min_samples_leaf': 70},\n",
       " mean: -0.69280, std: 0.00073, params: {'n_estimators': 400, 'min_samples_split': 1000, 'max_depth': 14, 'max_features': 0.2, 'min_samples_leaf': 50},\n",
       " mean: -0.69273, std: 0.00059, params: {'n_estimators': 700, 'min_samples_split': 400, 'max_depth': 7, 'max_features': 0.5, 'min_samples_leaf': 20},\n",
       " mean: -0.69270, std: 0.00053, params: {'n_estimators': 400, 'min_samples_split': 600, 'max_depth': 7, 'max_features': 'sqrt', 'min_samples_leaf': 70},\n",
       " mean: -0.69277, std: 0.00061, params: {'n_estimators': 700, 'min_samples_split': 300, 'max_depth': 9, 'max_features': 0.2, 'min_samples_leaf': 20},\n",
       " mean: -0.69288, std: 0.00083, params: {'n_estimators': 700, 'min_samples_split': 300, 'max_depth': 11, 'max_features': 0.4, 'min_samples_leaf': 100},\n",
       " mean: -0.69275, std: 0.00046, params: {'n_estimators': 600, 'min_samples_split': 500, 'max_depth': 6, 'max_features': 'sqrt', 'min_samples_leaf': 20},\n",
       " mean: -0.69288, std: 0.00068, params: {'n_estimators': 400, 'min_samples_split': 100, 'max_depth': 10, 'max_features': 'sqrt', 'min_samples_leaf': 20},\n",
       " mean: -0.69277, std: 0.00070, params: {'n_estimators': 700, 'min_samples_split': 1000, 'max_depth': 11, 'max_features': 0.4, 'min_samples_leaf': 40},\n",
       " mean: -0.69286, std: 0.00082, params: {'n_estimators': 300, 'min_samples_split': 800, 'max_depth': 13, 'max_features': 0.5, 'min_samples_leaf': 70},\n",
       " mean: -0.69275, std: 0.00070, params: {'n_estimators': 300, 'min_samples_split': 400, 'max_depth': 8, 'max_features': 0.4, 'min_samples_leaf': 70},\n",
       " mean: -0.69285, std: 0.00078, params: {'n_estimators': 800, 'min_samples_split': 800, 'max_depth': 13, 'max_features': 0.5, 'min_samples_leaf': 50},\n",
       " mean: -0.69274, std: 0.00051, params: {'n_estimators': 700, 'min_samples_split': 100, 'max_depth': 6, 'max_features': 0.4, 'min_samples_leaf': 20},\n",
       " mean: -0.69296, std: 0.00079, params: {'n_estimators': 300, 'min_samples_split': 100, 'max_depth': 11, 'max_features': 0.4, 'min_samples_leaf': 100},\n",
       " mean: -0.69274, std: 0.00060, params: {'n_estimators': 800, 'min_samples_split': 400, 'max_depth': 7, 'max_features': 0.5, 'min_samples_leaf': 20},\n",
       " mean: -0.69275, std: 0.00064, params: {'n_estimators': 800, 'min_samples_split': 400, 'max_depth': 9, 'max_features': 0.2, 'min_samples_leaf': 40},\n",
       " mean: -0.69290, std: 0.00076, params: {'n_estimators': 700, 'min_samples_split': 400, 'max_depth': 13, 'max_features': 0.2, 'min_samples_leaf': 70},\n",
       " mean: -0.69302, std: 0.00077, params: {'n_estimators': 800, 'min_samples_split': 300, 'max_depth': 14, 'max_features': 0.2, 'min_samples_leaf': 70},\n",
       " mean: -0.69275, std: 0.00068, params: {'n_estimators': 800, 'min_samples_split': 1000, 'max_depth': 10, 'max_features': 0.3, 'min_samples_leaf': 50},\n",
       " mean: -0.69274, std: 0.00051, params: {'n_estimators': 500, 'min_samples_split': 100, 'max_depth': 6, 'max_features': 0.3, 'min_samples_leaf': 20},\n",
       " mean: -0.69276, std: 0.00074, params: {'n_estimators': 600, 'min_samples_split': 1000, 'max_depth': 11, 'max_features': 0.5, 'min_samples_leaf': 50},\n",
       " mean: -0.69284, std: 0.00070, params: {'n_estimators': 600, 'min_samples_split': 400, 'max_depth': 12, 'max_features': 'sqrt', 'min_samples_leaf': 20},\n",
       " mean: -0.69296, std: 0.00078, params: {'n_estimators': 300, 'min_samples_split': 300, 'max_depth': 13, 'max_features': 'sqrt', 'min_samples_leaf': 40},\n",
       " mean: -0.69275, std: 0.00069, params: {'n_estimators': 400, 'min_samples_split': 1000, 'max_depth': 10, 'max_features': 0.4, 'min_samples_leaf': 50},\n",
       " mean: -0.69275, std: 0.00062, params: {'n_estimators': 300, 'min_samples_split': 600, 'max_depth': 8, 'max_features': 0.3, 'min_samples_leaf': 100},\n",
       " mean: -0.69291, std: 0.00083, params: {'n_estimators': 300, 'min_samples_split': 600, 'max_depth': 14, 'max_features': 0.4, 'min_samples_leaf': 40},\n",
       " mean: -0.69288, std: 0.00081, params: {'n_estimators': 500, 'min_samples_split': 500, 'max_depth': 13, 'max_features': 0.3, 'min_samples_leaf': 100},\n",
       " mean: -0.69273, std: 0.00052, params: {'n_estimators': 800, 'min_samples_split': 1000, 'max_depth': 7, 'max_features': 0.2, 'min_samples_leaf': 50},\n",
       " mean: -0.69272, std: 0.00051, params: {'n_estimators': 500, 'min_samples_split': 1000, 'max_depth': 6, 'max_features': 0.3, 'min_samples_leaf': 70},\n",
       " mean: -0.69276, std: 0.00051, params: {'n_estimators': 400, 'min_samples_split': 300, 'max_depth': 5, 'max_features': 0.5, 'min_samples_leaf': 70},\n",
       " mean: -0.69274, std: 0.00063, params: {'n_estimators': 300, 'min_samples_split': 400, 'max_depth': 9, 'max_features': 0.2, 'min_samples_leaf': 40},\n",
       " mean: -0.69306, std: 0.00088, params: {'n_estimators': 600, 'min_samples_split': 300, 'max_depth': 14, 'max_features': 0.4, 'min_samples_leaf': 70},\n",
       " mean: -0.69282, std: 0.00081, params: {'n_estimators': 800, 'min_samples_split': 800, 'max_depth': 12, 'max_features': 0.5, 'min_samples_leaf': 100},\n",
       " mean: -0.69271, std: 0.00054, params: {'n_estimators': 300, 'min_samples_split': 600, 'max_depth': 7, 'max_features': 0.2, 'min_samples_leaf': 50},\n",
       " mean: -0.69277, std: 0.00057, params: {'n_estimators': 800, 'min_samples_split': 300, 'max_depth': 8, 'max_features': 0.2, 'min_samples_leaf': 50},\n",
       " mean: -0.69276, std: 0.00073, params: {'n_estimators': 800, 'min_samples_split': 800, 'max_depth': 10, 'max_features': 0.5, 'min_samples_leaf': 40},\n",
       " mean: -0.69277, std: 0.00071, params: {'n_estimators': 800, 'min_samples_split': 500, 'max_depth': 10, 'max_features': 0.3, 'min_samples_leaf': 70},\n",
       " mean: -0.69282, std: 0.00066, params: {'n_estimators': 800, 'min_samples_split': 300, 'max_depth': 11, 'max_features': 0.2, 'min_samples_leaf': 20}]"
      ]
     },
     "execution_count": 37,
     "metadata": {},
     "output_type": "execute_result"
    }
   ],
   "source": [
    "search.grid_scores_"
   ]
  },
  {
   "cell_type": "code",
   "execution_count": 38,
   "metadata": {
    "collapsed": false
   },
   "outputs": [
    {
     "data": {
      "text/plain": [
       "(-0.6927037617895702,\n",
       " RandomForestClassifier(bootstrap=True, class_weight=None, criterion='gini',\n",
       "             max_depth=7, max_features='sqrt', max_leaf_nodes=None,\n",
       "             min_impurity_split=1e-07, min_samples_leaf=70,\n",
       "             min_samples_split=600, min_weight_fraction_leaf=0.0,\n",
       "             n_estimators=400, n_jobs=1, oob_score=False, random_state=None,\n",
       "             verbose=0, warm_start=False),\n",
       " {'max_depth': 7,\n",
       "  'max_features': 'sqrt',\n",
       "  'min_samples_leaf': 70,\n",
       "  'min_samples_split': 600,\n",
       "  'n_estimators': 400})"
      ]
     },
     "execution_count": 38,
     "metadata": {},
     "output_type": "execute_result"
    }
   ],
   "source": [
    "search.best_score_, search.best_estimator_, search.best_params_\n",
    "\n",
    "# (-0.6928779206980246,\n",
    "#  RandomForestClassifier(bootstrap=True, class_weight=None, criterion='gini',\n",
    "#              max_depth=5, max_features=0.4, max_leaf_nodes=None,\n",
    "#              min_impurity_split=1e-07, min_samples_leaf=100,\n",
    "#              min_samples_split=300, min_weight_fraction_leaf=0.0,\n",
    "#              n_estimators=600, n_jobs=1, oob_score=False, random_state=None,\n",
    "#              verbose=0, warm_start=False),\n",
    "#  {'max_depth': 5,\n",
    "#   'max_features': 0.4,\n",
    "#   'min_samples_leaf': 100,\n",
    "#   'min_samples_split': 300,\n",
    "#   'n_estimators': 600})"
   ]
  },
  {
   "cell_type": "code",
   "execution_count": 39,
   "metadata": {
    "collapsed": true
   },
   "outputs": [],
   "source": [
    "model = search.best_estimator_.fit(X, Y)"
   ]
  },
  {
   "cell_type": "code",
   "execution_count": 41,
   "metadata": {
    "collapsed": false
   },
   "outputs": [
    {
     "name": "stdout",
     "output_type": "stream",
     "text": [
      "Train Loss: 0.689733050243\n",
      "Validation Loss: 0.692599043325\n"
     ]
    }
   ],
   "source": [
    "loss(model, x_tr=X, y_tr=Y, x_val=x_validation, y_val=y_validation, proba=True)"
   ]
  },
  {
   "cell_type": "code",
   "execution_count": null,
   "metadata": {
    "collapsed": true
   },
   "outputs": [],
   "source": [
    "consistency(model)"
   ]
  },
  {
   "cell_type": "code",
   "execution_count": 42,
   "metadata": {
    "collapsed": false
   },
   "outputs": [
    {
     "name": "stdout",
     "output_type": "stream",
     "text": [
      "Predicting...\n",
      "Writing predictions to predictions.csv\n",
      "Done\n"
     ]
    }
   ],
   "source": [
    "write(model, 'RandomForest')"
   ]
  },
  {
   "cell_type": "markdown",
   "metadata": {
    "collapsed": true
   },
   "source": [
    "# Gradient Boosting"
   ]
  },
  {
   "cell_type": "code",
   "execution_count": 43,
   "metadata": {
    "collapsed": true
   },
   "outputs": [],
   "source": [
    "log_scoring=make_scorer(log_loss, greater_is_better=False, needs_proba=True)\n",
    "clf = GradientBoostingClassifier()\n",
    "# specify parameters and distributions to sample from\n",
    "param_dist = {\"max_depth\": [1, 2, 3, 4, 5, 6, 7, 8],\n",
    "              \"max_features\": ['sqrt',0.2, 0.3, 0.4, 0.5],\n",
    "              \"n_estimators\": [300, 400, 500, 600, 700, 800],\n",
    "              \"learning_rate\": [round(i,2) for i in np.arange(0.05,0.2,0.01)],\n",
    "             \"min_samples_split\": [100, 300, 400, 500, 600, 800, 1000],\n",
    "             \"min_samples_leaf\": [20, 40, 50, 70 ,100]}\n",
    "\n",
    "# run randomized search\n",
    "n_iter_search = 100\n",
    "random_search = RandomizedSearchCV(clf, param_distributions=param_dist,\n",
    "                                   n_iter=n_iter_search, cv=cv_split, n_jobs=-1, scoring=log_scoring, verbose=1)"
   ]
  },
  {
   "cell_type": "code",
   "execution_count": 44,
   "metadata": {
    "collapsed": false
   },
   "outputs": [
    {
     "name": "stdout",
     "output_type": "stream",
     "text": [
      "Fitting 5 folds for each of 100 candidates, totalling 500 fits\n"
     ]
    },
    {
     "name": "stderr",
     "output_type": "stream",
     "text": [
      "[Parallel(n_jobs=-1)]: Done 104 tasks      | elapsed:  5.4min\n",
      "[Parallel(n_jobs=-1)]: Done 354 tasks      | elapsed: 19.0min\n",
      "[Parallel(n_jobs=-1)]: Done 500 out of 500 | elapsed: 27.2min finished\n"
     ]
    },
    {
     "name": "stdout",
     "output_type": "stream",
     "text": [
      "RandomizedSearchCV took 1640.80 seconds for 100 candidates parameter settings.\n"
     ]
    }
   ],
   "source": [
    "start = time()\n",
    "search = random_search.fit(X, Y)\n",
    "print(\"RandomizedSearchCV took %.2f seconds for %d candidates\"\n",
    "      \" parameter settings.\" % ((time() - start), n_iter_search))\n",
    "# report(random_search.cv_results_)"
   ]
  },
  {
   "cell_type": "code",
   "execution_count": 45,
   "metadata": {
    "collapsed": false
   },
   "outputs": [
    {
     "data": {
      "text/plain": [
       "[mean: -0.69289, std: 0.00069, params: {'learning_rate': 0.09, 'min_samples_leaf': 100, 'n_estimators': 500, 'max_features': 0.3, 'min_samples_split': 400, 'max_depth': 1},\n",
       " mean: -0.69390, std: 0.00109, params: {'learning_rate': 0.09, 'min_samples_leaf': 50, 'n_estimators': 500, 'max_features': 0.2, 'min_samples_split': 600, 'max_depth': 3},\n",
       " mean: -0.69752, std: 0.00149, params: {'learning_rate': 0.1, 'min_samples_leaf': 20, 'n_estimators': 500, 'max_features': 0.5, 'min_samples_split': 100, 'max_depth': 5},\n",
       " mean: -0.69286, std: 0.00056, params: {'learning_rate': 0.08, 'min_samples_leaf': 100, 'n_estimators': 300, 'max_features': 0.5, 'min_samples_split': 300, 'max_depth': 1},\n",
       " mean: -0.69290, std: 0.00070, params: {'learning_rate': 0.08, 'min_samples_leaf': 70, 'n_estimators': 600, 'max_features': 'sqrt', 'min_samples_split': 600, 'max_depth': 1},\n",
       " mean: -0.69412, std: 0.00094, params: {'learning_rate': 0.06, 'min_samples_leaf': 50, 'n_estimators': 500, 'max_features': 'sqrt', 'min_samples_split': 100, 'max_depth': 4},\n",
       " mean: -0.69587, std: 0.00133, params: {'learning_rate': 0.2, 'min_samples_leaf': 50, 'n_estimators': 300, 'max_features': 0.4, 'min_samples_split': 1000, 'max_depth': 4},\n",
       " mean: -0.69286, std: 0.00046, params: {'learning_rate': 0.05, 'min_samples_leaf': 100, 'n_estimators': 300, 'max_features': 0.3, 'min_samples_split': 600, 'max_depth': 1},\n",
       " mean: -0.70644, std: 0.00169, params: {'learning_rate': 0.15, 'min_samples_leaf': 40, 'n_estimators': 700, 'max_features': 0.5, 'min_samples_split': 500, 'max_depth': 7},\n",
       " mean: -0.70413, std: 0.00148, params: {'learning_rate': 0.11, 'min_samples_leaf': 20, 'n_estimators': 400, 'max_features': 0.2, 'min_samples_split': 100, 'max_depth': 8},\n",
       " mean: -0.69294, std: 0.00067, params: {'learning_rate': 0.1, 'min_samples_leaf': 50, 'n_estimators': 500, 'max_features': 0.3, 'min_samples_split': 100, 'max_depth': 1},\n",
       " mean: -0.69359, std: 0.00099, params: {'learning_rate': 0.15, 'min_samples_leaf': 70, 'n_estimators': 300, 'max_features': 0.5, 'min_samples_split': 400, 'max_depth': 2},\n",
       " mean: -0.69342, std: 0.00092, params: {'learning_rate': 0.08, 'min_samples_leaf': 70, 'n_estimators': 600, 'max_features': 0.4, 'min_samples_split': 1000, 'max_depth': 2},\n",
       " mean: -0.69725, std: 0.00141, params: {'learning_rate': 0.11, 'min_samples_leaf': 70, 'n_estimators': 300, 'max_features': 0.5, 'min_samples_split': 800, 'max_depth': 8},\n",
       " mean: -0.70729, std: 0.00157, params: {'learning_rate': 0.13, 'min_samples_leaf': 50, 'n_estimators': 700, 'max_features': 'sqrt', 'min_samples_split': 400, 'max_depth': 8},\n",
       " mean: -0.69765, std: 0.00132, params: {'learning_rate': 0.12, 'min_samples_leaf': 50, 'n_estimators': 400, 'max_features': 0.3, 'min_samples_split': 800, 'max_depth': 7},\n",
       " mean: -0.69295, std: 0.00073, params: {'learning_rate': 0.05, 'min_samples_leaf': 70, 'n_estimators': 300, 'max_features': 0.3, 'min_samples_split': 400, 'max_depth': 2},\n",
       " mean: -0.69554, std: 0.00140, params: {'learning_rate': 0.08, 'min_samples_leaf': 40, 'n_estimators': 600, 'max_features': 0.4, 'min_samples_split': 800, 'max_depth': 5},\n",
       " mean: -0.69923, std: 0.00093, params: {'learning_rate': 0.13, 'min_samples_leaf': 100, 'n_estimators': 400, 'max_features': 0.4, 'min_samples_split': 300, 'max_depth': 6},\n",
       " mean: -0.69359, std: 0.00097, params: {'learning_rate': 0.06, 'min_samples_leaf': 70, 'n_estimators': 500, 'max_features': 0.5, 'min_samples_split': 800, 'max_depth': 3},\n",
       " mean: -0.69876, std: 0.00129, params: {'learning_rate': 0.18, 'min_samples_leaf': 50, 'n_estimators': 300, 'max_features': 0.3, 'min_samples_split': 500, 'max_depth': 6},\n",
       " mean: -0.69413, std: 0.00095, params: {'learning_rate': 0.08, 'min_samples_leaf': 50, 'n_estimators': 300, 'max_features': 0.5, 'min_samples_split': 1000, 'max_depth': 5},\n",
       " mean: -0.69696, std: 0.00106, params: {'learning_rate': 0.18, 'min_samples_leaf': 40, 'n_estimators': 300, 'max_features': 0.3, 'min_samples_split': 100, 'max_depth': 4},\n",
       " mean: -0.70591, std: 0.00188, params: {'learning_rate': 0.1, 'min_samples_leaf': 70, 'n_estimators': 800, 'max_features': 0.3, 'min_samples_split': 100, 'max_depth': 7},\n",
       " mean: -0.69305, std: 0.00078, params: {'learning_rate': 0.12, 'min_samples_leaf': 40, 'n_estimators': 800, 'max_features': 0.5, 'min_samples_split': 300, 'max_depth': 1},\n",
       " mean: -0.69308, std: 0.00083, params: {'learning_rate': 0.18, 'min_samples_leaf': 70, 'n_estimators': 700, 'max_features': 'sqrt', 'min_samples_split': 1000, 'max_depth': 1},\n",
       " mean: -0.70172, std: 0.00128, params: {'learning_rate': 0.14, 'min_samples_leaf': 20, 'n_estimators': 500, 'max_features': 'sqrt', 'min_samples_split': 500, 'max_depth': 7},\n",
       " mean: -0.69300, std: 0.00075, params: {'learning_rate': 0.12, 'min_samples_leaf': 50, 'n_estimators': 700, 'max_features': 0.4, 'min_samples_split': 400, 'max_depth': 1},\n",
       " mean: -0.69298, std: 0.00069, params: {'learning_rate': 0.2, 'min_samples_leaf': 40, 'n_estimators': 300, 'max_features': 0.5, 'min_samples_split': 1000, 'max_depth': 1},\n",
       " mean: -0.69393, std: 0.00100, params: {'learning_rate': 0.11, 'min_samples_leaf': 20, 'n_estimators': 800, 'max_features': 0.4, 'min_samples_split': 800, 'max_depth': 2},\n",
       " mean: -0.69721, std: 0.00163, params: {'learning_rate': 0.11, 'min_samples_leaf': 70, 'n_estimators': 300, 'max_features': 0.4, 'min_samples_split': 600, 'max_depth': 8},\n",
       " mean: -0.69322, std: 0.00085, params: {'learning_rate': 0.05, 'min_samples_leaf': 100, 'n_estimators': 700, 'max_features': 0.5, 'min_samples_split': 1000, 'max_depth': 2},\n",
       " mean: -0.69946, std: 0.00105, params: {'learning_rate': 0.18, 'min_samples_leaf': 50, 'n_estimators': 700, 'max_features': 0.3, 'min_samples_split': 600, 'max_depth': 4},\n",
       " mean: -0.69416, std: 0.00093, params: {'learning_rate': 0.09, 'min_samples_leaf': 70, 'n_estimators': 300, 'max_features': 0.5, 'min_samples_split': 500, 'max_depth': 4},\n",
       " mean: -0.69567, std: 0.00132, params: {'learning_rate': 0.09, 'min_samples_leaf': 70, 'n_estimators': 500, 'max_features': 0.3, 'min_samples_split': 600, 'max_depth': 5},\n",
       " mean: -0.69783, std: 0.00133, params: {'learning_rate': 0.07, 'min_samples_leaf': 20, 'n_estimators': 600, 'max_features': 0.5, 'min_samples_split': 100, 'max_depth': 6},\n",
       " mean: -0.69429, std: 0.00114, params: {'learning_rate': 0.14, 'min_samples_leaf': 20, 'n_estimators': 400, 'max_features': 0.2, 'min_samples_split': 500, 'max_depth': 3},\n",
       " mean: -0.71324, std: 0.00145, params: {'learning_rate': 0.19, 'min_samples_leaf': 40, 'n_estimators': 600, 'max_features': 0.2, 'min_samples_split': 100, 'max_depth': 6},\n",
       " mean: -0.70216, std: 0.00143, params: {'learning_rate': 0.16, 'min_samples_leaf': 70, 'n_estimators': 400, 'max_features': 0.2, 'min_samples_split': 600, 'max_depth': 8},\n",
       " mean: -0.70042, std: 0.00129, params: {'learning_rate': 0.15, 'min_samples_leaf': 50, 'n_estimators': 400, 'max_features': 0.5, 'min_samples_split': 1000, 'max_depth': 8},\n",
       " mean: -0.70055, std: 0.00143, params: {'learning_rate': 0.16, 'min_samples_leaf': 40, 'n_estimators': 300, 'max_features': 0.3, 'min_samples_split': 600, 'max_depth': 8},\n",
       " mean: -0.69444, std: 0.00116, params: {'learning_rate': 0.12, 'min_samples_leaf': 40, 'n_estimators': 600, 'max_features': 0.2, 'min_samples_split': 800, 'max_depth': 3},\n",
       " mean: -0.69900, std: 0.00175, params: {'learning_rate': 0.16, 'min_samples_leaf': 50, 'n_estimators': 400, 'max_features': 0.3, 'min_samples_split': 500, 'max_depth': 6},\n",
       " mean: -0.69574, std: 0.00129, params: {'learning_rate': 0.09, 'min_samples_leaf': 100, 'n_estimators': 300, 'max_features': 0.3, 'min_samples_split': 1000, 'max_depth': 8},\n",
       " mean: -0.69410, std: 0.00107, params: {'learning_rate': 0.16, 'min_samples_leaf': 20, 'n_estimators': 500, 'max_features': 0.4, 'min_samples_split': 1000, 'max_depth': 2},\n",
       " mean: -0.69525, std: 0.00120, params: {'learning_rate': 0.1, 'min_samples_leaf': 20, 'n_estimators': 600, 'max_features': 0.2, 'min_samples_split': 600, 'max_depth': 4},\n",
       " mean: -0.69653, std: 0.00120, params: {'learning_rate': 0.12, 'min_samples_leaf': 40, 'n_estimators': 500, 'max_features': 0.5, 'min_samples_split': 100, 'max_depth': 4},\n",
       " mean: -0.69296, std: 0.00076, params: {'learning_rate': 0.15, 'min_samples_leaf': 70, 'n_estimators': 500, 'max_features': 0.2, 'min_samples_split': 100, 'max_depth': 1},\n",
       " mean: -0.69939, std: 0.00133, params: {'learning_rate': 0.15, 'min_samples_leaf': 70, 'n_estimators': 500, 'max_features': 0.3, 'min_samples_split': 300, 'max_depth': 5},\n",
       " mean: -0.69341, std: 0.00089, params: {'learning_rate': 0.08, 'min_samples_leaf': 100, 'n_estimators': 300, 'max_features': 0.3, 'min_samples_split': 500, 'max_depth': 3},\n",
       " mean: -0.69971, std: 0.00145, params: {'learning_rate': 0.13, 'min_samples_leaf': 70, 'n_estimators': 700, 'max_features': 0.3, 'min_samples_split': 1000, 'max_depth': 6},\n",
       " mean: -0.69504, std: 0.00102, params: {'learning_rate': 0.17, 'min_samples_leaf': 100, 'n_estimators': 400, 'max_features': 'sqrt', 'min_samples_split': 100, 'max_depth': 3},\n",
       " mean: -0.69290, std: 0.00070, params: {'learning_rate': 0.06, 'min_samples_leaf': 100, 'n_estimators': 800, 'max_features': 0.2, 'min_samples_split': 1000, 'max_depth': 1},\n",
       " mean: -0.69858, std: 0.00146, params: {'learning_rate': 0.15, 'min_samples_leaf': 70, 'n_estimators': 300, 'max_features': 0.4, 'min_samples_split': 600, 'max_depth': 7},\n",
       " mean: -0.69557, std: 0.00140, params: {'learning_rate': 0.15, 'min_samples_leaf': 40, 'n_estimators': 300, 'max_features': 0.3, 'min_samples_split': 800, 'max_depth': 5},\n",
       " mean: -0.69438, std: 0.00111, params: {'learning_rate': 0.19, 'min_samples_leaf': 50, 'n_estimators': 600, 'max_features': 0.2, 'min_samples_split': 800, 'max_depth': 2},\n",
       " mean: -0.69880, std: 0.00102, params: {'learning_rate': 0.12, 'min_samples_leaf': 20, 'n_estimators': 400, 'max_features': 0.2, 'min_samples_split': 400, 'max_depth': 7},\n",
       " mean: -0.69785, std: 0.00123, params: {'learning_rate': 0.14, 'min_samples_leaf': 40, 'n_estimators': 500, 'max_features': 0.5, 'min_samples_split': 100, 'max_depth': 4},\n",
       " mean: -0.69596, std: 0.00099, params: {'learning_rate': 0.1, 'min_samples_leaf': 100, 'n_estimators': 400, 'max_features': 'sqrt', 'min_samples_split': 800, 'max_depth': 6},\n",
       " mean: -0.70391, std: 0.00108, params: {'learning_rate': 0.15, 'min_samples_leaf': 70, 'n_estimators': 400, 'max_features': 0.2, 'min_samples_split': 100, 'max_depth': 7},\n",
       " mean: -0.70474, std: 0.00176, params: {'learning_rate': 0.18, 'min_samples_leaf': 20, 'n_estimators': 700, 'max_features': 0.3, 'min_samples_split': 1000, 'max_depth': 6},\n",
       " mean: -0.69354, std: 0.00088, params: {'learning_rate': 0.09, 'min_samples_leaf': 50, 'n_estimators': 300, 'max_features': 0.4, 'min_samples_split': 800, 'max_depth': 3},\n",
       " mean: -0.69372, std: 0.00090, params: {'learning_rate': 0.11, 'min_samples_leaf': 70, 'n_estimators': 300, 'max_features': 0.5, 'min_samples_split': 500, 'max_depth': 3},\n",
       " mean: -0.69308, std: 0.00079, params: {'learning_rate': 0.14, 'min_samples_leaf': 40, 'n_estimators': 800, 'max_features': 0.2, 'min_samples_split': 600, 'max_depth': 1},\n",
       " mean: -0.69374, std: 0.00089, params: {'learning_rate': 0.18, 'min_samples_leaf': 50, 'n_estimators': 300, 'max_features': 0.5, 'min_samples_split': 800, 'max_depth': 2},\n",
       " mean: -0.70002, std: 0.00121, params: {'learning_rate': 0.13, 'min_samples_leaf': 100, 'n_estimators': 700, 'max_features': 0.2, 'min_samples_split': 800, 'max_depth': 6},\n",
       " mean: -0.69555, std: 0.00118, params: {'learning_rate': 0.05, 'min_samples_leaf': 100, 'n_estimators': 600, 'max_features': 'sqrt', 'min_samples_split': 1000, 'max_depth': 8},\n",
       " mean: -0.69671, std: 0.00145, params: {'learning_rate': 0.18, 'min_samples_leaf': 20, 'n_estimators': 800, 'max_features': 0.2, 'min_samples_split': 1000, 'max_depth': 3},\n",
       " mean: -0.69413, std: 0.00099, params: {'learning_rate': 0.1, 'min_samples_leaf': 100, 'n_estimators': 800, 'max_features': 0.5, 'min_samples_split': 300, 'max_depth': 2},\n",
       " mean: -0.70208, std: 0.00156, params: {'learning_rate': 0.14, 'min_samples_leaf': 20, 'n_estimators': 800, 'max_features': 0.4, 'min_samples_split': 1000, 'max_depth': 6},\n",
       " mean: -0.69928, std: 0.00130, params: {'learning_rate': 0.08, 'min_samples_leaf': 40, 'n_estimators': 700, 'max_features': 0.2, 'min_samples_split': 600, 'max_depth': 8},\n",
       " mean: -0.69299, std: 0.00079, params: {'learning_rate': 0.12, 'min_samples_leaf': 70, 'n_estimators': 700, 'max_features': 0.5, 'min_samples_split': 500, 'max_depth': 1},\n",
       " mean: -0.69879, std: 0.00126, params: {'learning_rate': 0.14, 'min_samples_leaf': 20, 'n_estimators': 500, 'max_features': 0.5, 'min_samples_split': 1000, 'max_depth': 6},\n",
       " mean: -0.70257, std: 0.00163, params: {'learning_rate': 0.19, 'min_samples_leaf': 20, 'n_estimators': 400, 'max_features': 0.3, 'min_samples_split': 400, 'max_depth': 6},\n",
       " mean: -0.69363, std: 0.00091, params: {'learning_rate': 0.07, 'min_samples_leaf': 70, 'n_estimators': 800, 'max_features': 0.5, 'min_samples_split': 100, 'max_depth': 2},\n",
       " mean: -0.69371, std: 0.00095, params: {'learning_rate': 0.09, 'min_samples_leaf': 70, 'n_estimators': 700, 'max_features': 0.5, 'min_samples_split': 100, 'max_depth': 2},\n",
       " mean: -0.70551, std: 0.00153, params: {'learning_rate': 0.16, 'min_samples_leaf': 40, 'n_estimators': 500, 'max_features': 'sqrt', 'min_samples_split': 500, 'max_depth': 8},\n",
       " mean: -0.69531, std: 0.00118, params: {'learning_rate': 0.06, 'min_samples_leaf': 100, 'n_estimators': 300, 'max_features': 0.5, 'min_samples_split': 100, 'max_depth': 7},\n",
       " mean: -0.69289, std: 0.00060, params: {'learning_rate': 0.08, 'min_samples_leaf': 50, 'n_estimators': 400, 'max_features': 0.3, 'min_samples_split': 800, 'max_depth': 1},\n",
       " mean: -0.69825, std: 0.00090, params: {'learning_rate': 0.2, 'min_samples_leaf': 100, 'n_estimators': 300, 'max_features': 0.2, 'min_samples_split': 1000, 'max_depth': 6},\n",
       " mean: -0.69698, std: 0.00116, params: {'learning_rate': 0.15, 'min_samples_leaf': 40, 'n_estimators': 400, 'max_features': 0.2, 'min_samples_split': 600, 'max_depth': 5},\n",
       " mean: -0.69864, std: 0.00145, params: {'learning_rate': 0.16, 'min_samples_leaf': 70, 'n_estimators': 600, 'max_features': 0.2, 'min_samples_split': 1000, 'max_depth': 5},\n",
       " mean: -0.70117, std: 0.00107, params: {'learning_rate': 0.12, 'min_samples_leaf': 100, 'n_estimators': 500, 'max_features': 'sqrt', 'min_samples_split': 300, 'max_depth': 7},\n",
       " mean: -0.69535, std: 0.00125, params: {'learning_rate': 0.09, 'min_samples_leaf': 40, 'n_estimators': 600, 'max_features': 0.4, 'min_samples_split': 400, 'max_depth': 4},\n",
       " mean: -0.73808, std: 0.00111, params: {'learning_rate': 0.18, 'min_samples_leaf': 50, 'n_estimators': 800, 'max_features': 0.3, 'min_samples_split': 100, 'max_depth': 8},\n",
       " mean: -0.69332, std: 0.00087, params: {'learning_rate': 0.06, 'min_samples_leaf': 20, 'n_estimators': 700, 'max_features': 0.4, 'min_samples_split': 400, 'max_depth': 2},\n",
       " mean: -0.69294, std: 0.00070, params: {'learning_rate': 0.1, 'min_samples_leaf': 20, 'n_estimators': 600, 'max_features': 0.3, 'min_samples_split': 500, 'max_depth': 1},\n",
       " mean: -0.69826, std: 0.00143, params: {'learning_rate': 0.17, 'min_samples_leaf': 20, 'n_estimators': 300, 'max_features': 'sqrt', 'min_samples_split': 500, 'max_depth': 6},\n",
       " mean: -0.69841, std: 0.00127, params: {'learning_rate': 0.08, 'min_samples_leaf': 50, 'n_estimators': 700, 'max_features': 0.2, 'min_samples_split': 1000, 'max_depth': 8},\n",
       " mean: -0.70324, std: 0.00081, params: {'learning_rate': 0.09, 'min_samples_leaf': 100, 'n_estimators': 800, 'max_features': 0.4, 'min_samples_split': 100, 'max_depth': 7},\n",
       " mean: -0.70574, std: 0.00113, params: {'learning_rate': 0.16, 'min_samples_leaf': 20, 'n_estimators': 500, 'max_features': 0.3, 'min_samples_split': 300, 'max_depth': 7},\n",
       " mean: -0.69823, std: 0.00149, params: {'learning_rate': 0.19, 'min_samples_leaf': 100, 'n_estimators': 500, 'max_features': 0.5, 'min_samples_split': 600, 'max_depth': 4},\n",
       " mean: -0.70495, std: 0.00146, params: {'learning_rate': 0.15, 'min_samples_leaf': 20, 'n_estimators': 700, 'max_features': 0.3, 'min_samples_split': 100, 'max_depth': 5},\n",
       " mean: -0.69298, std: 0.00072, params: {'learning_rate': 0.12, 'min_samples_leaf': 20, 'n_estimators': 600, 'max_features': 0.3, 'min_samples_split': 800, 'max_depth': 1},\n",
       " mean: -0.69339, std: 0.00084, params: {'learning_rate': 0.08, 'min_samples_leaf': 20, 'n_estimators': 600, 'max_features': 0.3, 'min_samples_split': 800, 'max_depth': 2},\n",
       " mean: -0.70888, std: 0.00161, params: {'learning_rate': 0.19, 'min_samples_leaf': 70, 'n_estimators': 700, 'max_features': 0.4, 'min_samples_split': 400, 'max_depth': 6},\n",
       " mean: -0.69521, std: 0.00108, params: {'learning_rate': 0.11, 'min_samples_leaf': 20, 'n_estimators': 300, 'max_features': 0.5, 'min_samples_split': 1000, 'max_depth': 6},\n",
       " mean: -0.69373, std: 0.00094, params: {'learning_rate': 0.08, 'min_samples_leaf': 20, 'n_estimators': 500, 'max_features': 0.2, 'min_samples_split': 600, 'max_depth': 3},\n",
       " mean: -0.69289, std: 0.00071, params: {'learning_rate': 0.13, 'min_samples_leaf': 100, 'n_estimators': 400, 'max_features': 'sqrt', 'min_samples_split': 800, 'max_depth': 1},\n",
       " mean: -0.69955, std: 0.00142, params: {'learning_rate': 0.11, 'min_samples_leaf': 70, 'n_estimators': 700, 'max_features': 0.5, 'min_samples_split': 500, 'max_depth': 6}]"
      ]
     },
     "execution_count": 45,
     "metadata": {},
     "output_type": "execute_result"
    }
   ],
   "source": [
    "search.grid_scores_"
   ]
  },
  {
   "cell_type": "code",
   "execution_count": 46,
   "metadata": {
    "collapsed": true
   },
   "outputs": [],
   "source": [
    "model = search.best_estimator_.fit(X, Y)"
   ]
  },
  {
   "cell_type": "code",
   "execution_count": 47,
   "metadata": {
    "collapsed": false
   },
   "outputs": [
    {
     "name": "stdout",
     "output_type": "stream",
     "text": [
      "Train Loss: 0.692074778203\n",
      "Validation Loss: 0.692531153867\n"
     ]
    }
   ],
   "source": [
    "loss(model, x_tr=X, y_tr=Y, x_val=x_validation, y_val=y_validation, proba=True)"
   ]
  },
  {
   "cell_type": "code",
   "execution_count": 48,
   "metadata": {
    "collapsed": false
   },
   "outputs": [
    {
     "name": "stdout",
     "output_type": "stream",
     "text": [
      "Predicting...\n",
      "Writing predictions to predictions.csv\n",
      "Done\n"
     ]
    }
   ],
   "source": [
    "consistency(model)"
   ]
  },
  {
   "cell_type": "code",
   "execution_count": null,
   "metadata": {
    "collapsed": true
   },
   "outputs": [],
   "source": [
    "write(model, 'GradientBoosting')"
   ]
  },
  {
   "cell_type": "markdown",
   "metadata": {},
   "source": [
    "# K-Nearest Neighbor"
   ]
  },
  {
   "cell_type": "code",
   "execution_count": 11,
   "metadata": {
    "collapsed": false
   },
   "outputs": [],
   "source": [
    "log_scoring=make_scorer(log_loss, greater_is_better=False, needs_proba=True)\n",
    "clf = KNeighborsClassifier()\n",
    "# specify parameters and distributions to sample from\n",
    "param_grid = {\"n_neighbors\": range(1000, 11001, 5000),\n",
    "#               \"algorithm\": ['auto', 'ball_tree', 'kd_tree']#, 'brute'],\n",
    "#               \"weights\": ['uniform', 'distance']\n",
    "             }\n",
    "\n",
    "# run randomized search\n",
    "# n_iter_search = 100\n",
    "grid_search = GridSearchCV(clf, param_grid=param_grid,\n",
    "                                   cv=cv_split, n_jobs=-1, scoring=log_scoring, verbose=1)"
   ]
  },
  {
   "cell_type": "code",
   "execution_count": 12,
   "metadata": {
    "collapsed": false
   },
   "outputs": [
    {
     "name": "stdout",
     "output_type": "stream",
     "text": [
      "Fitting 5 folds for each of 3 candidates, totalling 15 fits\n"
     ]
    },
    {
     "name": "stderr",
     "output_type": "stream",
     "text": [
      "[Parallel(n_jobs=-1)]: Done  15 out of  15 | elapsed:  3.0min finished\n"
     ]
    },
    {
     "ename": "TypeError",
     "evalue": "not enough arguments for format string",
     "output_type": "error",
     "traceback": [
      "\u001b[0;31m---------------------------------------------------------------------------\u001b[0m",
      "\u001b[0;31mTypeError\u001b[0m                                 Traceback (most recent call last)",
      "\u001b[0;32m<ipython-input-12-2fa19c2ba5a3>\u001b[0m in \u001b[0;36m<module>\u001b[0;34m()\u001b[0m\n\u001b[1;32m      2\u001b[0m \u001b[0msearch\u001b[0m \u001b[0;34m=\u001b[0m \u001b[0mgrid_search\u001b[0m\u001b[0;34m.\u001b[0m\u001b[0mfit\u001b[0m\u001b[0;34m(\u001b[0m\u001b[0mX\u001b[0m\u001b[0;34m,\u001b[0m \u001b[0mY\u001b[0m\u001b[0;34m)\u001b[0m\u001b[0;34m\u001b[0m\u001b[0m\n\u001b[1;32m      3\u001b[0m print(\"GridSearchCV took %.2f seconds for %d candidates\"\n\u001b[0;32m----> 4\u001b[0;31m       \" parameter settings.\" % ((time() - start)))\n\u001b[0m\u001b[1;32m      5\u001b[0m \u001b[0;31m# report(random_search.cv_results_)\u001b[0m\u001b[0;34m\u001b[0m\u001b[0;34m\u001b[0m\u001b[0m\n",
      "\u001b[0;31mTypeError\u001b[0m: not enough arguments for format string"
     ]
    }
   ],
   "source": [
    "start = time()\n",
    "search = grid_search.fit(X, Y)\n",
    "print(\"GridSearchCV took %.2f seconds for %d candidates\"\n",
    "      \" parameter settings.\" ((time() - start)))\n",
    "# report(random_search.cv_results_)"
   ]
  },
  {
   "cell_type": "code",
   "execution_count": 13,
   "metadata": {
    "collapsed": false
   },
   "outputs": [
    {
     "data": {
      "text/plain": [
       "[mean: -0.69305, std: 0.00078, params: {'n_neighbors': 1000},\n",
       " mean: -0.69294, std: 0.00041, params: {'n_neighbors': 6000},\n",
       " mean: -0.69296, std: 0.00035, params: {'n_neighbors': 11000}]"
      ]
     },
     "execution_count": 13,
     "metadata": {},
     "output_type": "execute_result"
    }
   ],
   "source": [
    "search.grid_scores_"
   ]
  },
  {
   "cell_type": "code",
   "execution_count": 14,
   "metadata": {
    "collapsed": false
   },
   "outputs": [],
   "source": [
    "# model = KNeighborsClassifier(n_neighbors=100, n_jobs=-1)\n",
    "# print(\"Training...\")\n",
    "# model.fit(X, Y)\n",
    "model = search.best_estimator_.fit(X, Y)"
   ]
  },
  {
   "cell_type": "code",
   "execution_count": 17,
   "metadata": {
    "collapsed": false
   },
   "outputs": [
    {
     "name": "stdout",
     "output_type": "stream",
     "text": [
      "Train Loss: 0.692660571913\n",
      "Validation Loss: 0.692826321222\n"
     ]
    }
   ],
   "source": [
    "loss(model, x_tr=X, y_tr=Y, x_val=x_validation, y_val=y_validation, proba=True)"
   ]
  },
  {
   "cell_type": "code",
   "execution_count": 18,
   "metadata": {
    "collapsed": false
   },
   "outputs": [
    {
     "name": "stdout",
     "output_type": "stream",
     "text": [
      "Threshold loss 0.69314718056\n",
      "Validation Loss: 0.692541106707\n",
      "Validation Loss: 0.693149712931\n",
      "Validation Loss: 0.693239586066\n",
      "Validation Loss: 0.692593246476\n",
      "Validation Loss: 0.693354007385\n",
      "Validation Loss: 0.692821115751\n",
      "Validation Loss: 0.693372195663\n",
      "Validation Loss: 0.692415094578\n",
      "Validation Loss: 0.691887720527\n",
      "Validation Loss: 0.693382208368\n",
      "Validation Loss: 0.692817370522\n",
      "Validation Loss: 0.692380788331\n",
      "Count = 12\n",
      "Good = 7\n",
      "Percent of Good = 58.3333333333\n"
     ]
    }
   ],
   "source": [
    "consistency(model)"
   ]
  },
  {
   "cell_type": "markdown",
   "metadata": {
    "collapsed": true
   },
   "source": [
    "# SVM"
   ]
  },
  {
   "cell_type": "code",
   "execution_count": null,
   "metadata": {
    "collapsed": true
   },
   "outputs": [],
   "source": [
    "model = SVC(kernel='rbf', C=0.1, probability=True)\n",
    "print(\"Training...\")\n",
    "model.fit(X, Y)"
   ]
  },
  {
   "cell_type": "code",
   "execution_count": null,
   "metadata": {
    "collapsed": true
   },
   "outputs": [],
   "source": [
    "loss(model, x_tr=X, y_tr=Y, x_val=x_validation, y_val=y_validation, proba=True)"
   ]
  },
  {
   "cell_type": "code",
   "execution_count": null,
   "metadata": {
    "collapsed": true
   },
   "outputs": [],
   "source": [
    "consistency(model)"
   ]
  },
  {
   "cell_type": "markdown",
   "metadata": {},
   "source": [
    "# XGB"
   ]
  },
  {
   "cell_type": "code",
   "execution_count": 26,
   "metadata": {
    "collapsed": true
   },
   "outputs": [],
   "source": [
    "xgtrain = xgb.DMatrix(X.values, label=Y.values)\n",
    "xgval = xgb.DMatrix(x_validation.values, label=y_validation.values)"
   ]
  },
  {
   "cell_type": "code",
   "execution_count": 72,
   "metadata": {
    "collapsed": true
   },
   "outputs": [],
   "source": [
    "param = {'gamma':4, 'max_depth':2, 'eta':0.3, 'silent':0, 'objective':'multi:softprob', 'num_class':2}\n",
    "param['nthread'] = 20\n",
    "plst = param.items()\n",
    "plst += [('eval_metric', 'mlogloss')] # Multiple evals can be handled in this way\n",
    "\n",
    "evallist  = [(xgval,'eval'), (xgtrain,'train')]"
   ]
  },
  {
   "cell_type": "code",
   "execution_count": 73,
   "metadata": {
    "collapsed": false
   },
   "outputs": [
    {
     "name": "stderr",
     "output_type": "stream",
     "text": [
      "Will train until train error hasn't decreased in 20 rounds.\n",
      "[0]\teval-mlogloss:0.692972\ttrain-mlogloss:0.692934\n",
      "[1]\teval-mlogloss:0.692828\ttrain-mlogloss:0.692729\n",
      "[2]\teval-mlogloss:0.692708\ttrain-mlogloss:0.692604\n",
      "[3]\teval-mlogloss:0.692670\ttrain-mlogloss:0.692535\n",
      "[4]\teval-mlogloss:0.692670\ttrain-mlogloss:0.692436\n",
      "[5]\teval-mlogloss:0.692616\ttrain-mlogloss:0.692402\n",
      "[6]\teval-mlogloss:0.692577\ttrain-mlogloss:0.692329\n",
      "[7]\teval-mlogloss:0.692552\ttrain-mlogloss:0.692225\n",
      "[8]\teval-mlogloss:0.692554\ttrain-mlogloss:0.692191\n",
      "[9]\teval-mlogloss:0.692592\ttrain-mlogloss:0.692140\n",
      "[10]\teval-mlogloss:0.692592\ttrain-mlogloss:0.692107\n",
      "[11]\teval-mlogloss:0.692580\ttrain-mlogloss:0.692032\n",
      "[12]\teval-mlogloss:0.692561\ttrain-mlogloss:0.691950\n",
      "[13]\teval-mlogloss:0.692560\ttrain-mlogloss:0.691907\n",
      "[14]\teval-mlogloss:0.692559\ttrain-mlogloss:0.691911\n",
      "[15]\teval-mlogloss:0.692560\ttrain-mlogloss:0.691908\n",
      "[16]\teval-mlogloss:0.692560\ttrain-mlogloss:0.691909\n",
      "[17]\teval-mlogloss:0.692560\ttrain-mlogloss:0.691910\n",
      "[18]\teval-mlogloss:0.692560\ttrain-mlogloss:0.691911\n",
      "[19]\teval-mlogloss:0.692560\ttrain-mlogloss:0.691915\n",
      "[20]\teval-mlogloss:0.692560\ttrain-mlogloss:0.691914\n",
      "[21]\teval-mlogloss:0.692560\ttrain-mlogloss:0.691914\n",
      "[22]\teval-mlogloss:0.692560\ttrain-mlogloss:0.691914\n",
      "[23]\teval-mlogloss:0.692560\ttrain-mlogloss:0.691914\n",
      "[24]\teval-mlogloss:0.692560\ttrain-mlogloss:0.691913\n",
      "[25]\teval-mlogloss:0.692560\ttrain-mlogloss:0.691913\n",
      "[26]\teval-mlogloss:0.692560\ttrain-mlogloss:0.691914\n",
      "[27]\teval-mlogloss:0.692560\ttrain-mlogloss:0.691914\n",
      "[28]\teval-mlogloss:0.692560\ttrain-mlogloss:0.691914\n",
      "[29]\teval-mlogloss:0.692560\ttrain-mlogloss:0.691914\n",
      "[30]\teval-mlogloss:0.692560\ttrain-mlogloss:0.691914\n",
      "[31]\teval-mlogloss:0.692560\ttrain-mlogloss:0.691914\n",
      "[32]\teval-mlogloss:0.692560\ttrain-mlogloss:0.691914\n",
      "[33]\teval-mlogloss:0.692560\ttrain-mlogloss:0.691914\n",
      "Stopping. Best iteration:\n",
      "[13]\teval-mlogloss:0.692560\ttrain-mlogloss:0.691907\n",
      "\n"
     ]
    }
   ],
   "source": [
    "num_round = 500\n",
    "model = xgb.train( plst, xgtrain, num_round, evallist, early_stopping_rounds=20 )\n",
    "# [38]\teval-mlogloss:0.692388\ttrain-mlogloss:0.690688 \n",
    "# 'gamma':2, 'max_depth':2, 'eta':0.5, 'silent':0, 'objective':'multi:softmax', 'num_class':2"
   ]
  },
  {
   "cell_type": "code",
   "execution_count": 81,
   "metadata": {
    "collapsed": false
   },
   "outputs": [
    {
     "name": "stdout",
     "output_type": "stream",
     "text": [
      "Train Loss: 0.691907738853\n",
      "Validation Loss: 0.692560348714\n"
     ]
    }
   ],
   "source": [
    "loss(model, x_tr=xgtrain, y_tr=Y, x_val=xgval, y_val=y_validation, proba=False)"
   ]
  },
  {
   "cell_type": "code",
   "execution_count": 86,
   "metadata": {
    "collapsed": false
   },
   "outputs": [
    {
     "name": "stdout",
     "output_type": "stream",
     "text": [
      "Threshold loss 0.69314718056\n",
      "Validation Loss: 0.692050552099\n",
      "Validation Loss: 0.692611149711\n",
      "Validation Loss: 0.692196117517\n",
      "Validation Loss: 0.692303270102\n",
      "Validation Loss: 0.693129951877\n",
      "Validation Loss: 0.69255846545\n",
      "Validation Loss: 0.69336131037\n",
      "Validation Loss: 0.692607297937\n",
      "Validation Loss: 0.691487173887\n",
      "Validation Loss: 0.694004457318\n",
      "Validation Loss: 0.693004723277\n",
      "Validation Loss: 0.691401050398\n",
      "Count = 12\n",
      "Good = 10\n",
      "Percent of Good = 83.3333333333\n"
     ]
    }
   ],
   "source": [
    "consistency(model, XGB=True)"
   ]
  },
  {
   "cell_type": "code",
   "execution_count": 100,
   "metadata": {
    "collapsed": false
   },
   "outputs": [
    {
     "name": "stdout",
     "output_type": "stream",
     "text": [
      "Predicting...\n",
      "Writing predictions to predictions.csv\n",
      "Done\n"
     ]
    }
   ],
   "source": [
    "write(model, 'XGB1', XGB=True)"
   ]
  },
  {
   "cell_type": "markdown",
   "metadata": {},
   "source": [
    "# XGB Sklearn"
   ]
  },
  {
   "cell_type": "code",
   "execution_count": 114,
   "metadata": {
    "collapsed": true
   },
   "outputs": [],
   "source": [
    "log_scoring=make_scorer(log_loss, greater_is_better=False, needs_proba=True)\n",
    "clf = XGBClassifier()\n",
    "# specify parameters and distributions to sample from\n",
    "param_dist = {\n",
    "    \"n_estimators\": range(50, 400, 50), #[300, 400, 500, 600, 700, 800]\n",
    "    \"max_depth\": range(3, 40), #[1, 2, 3, 4, 5, 6, 7, 8]\n",
    "    \"learning_rate\": [round(i, 2) for i in np.arange(0.05,0.2,0.01)],\n",
    "    \"colsample_bytree\": np.arange(0.3, 0.7, 0.1),\n",
    "    \"subsample\": np.arange(0.3, 0.7, 0.1),\n",
    "    \"gamma\": range(1, 6)}\n",
    "#     'reg_alpha': from_zero_positive,\n",
    "#     \"min_child_weight\": from_zero_positive,\n",
    "    \n",
    "    \n",
    "#     \"max_depth\": [1, 2, 3, 4, 5, 6, 7, 8],\n",
    "#               \"max_features\": ['sqrt',0.2, 0.3, 0.4, 0.5],\n",
    "            \n",
    "#               \"learning_rate\": [round(i,2) for i in np.arange(0.05,0.2,0.01)],\n",
    "#              \"min_samples_split\": [100, 300, 400, 500, 600, 800, 1000],\n",
    "#              \"min_samples_leaf\": [20, 40, 50, 70 ,100]}\n",
    "\n",
    "# run randomized search\n",
    "n_iter_search = 10\n",
    "random_search = RandomizedSearchCV(clf, param_distributions=param_dist,\n",
    "                                   n_iter=n_iter_search, cv=cv_split, n_jobs=5, scoring=log_scoring, verbose=1)"
   ]
  },
  {
   "cell_type": "code",
   "execution_count": 115,
   "metadata": {
    "collapsed": false
   },
   "outputs": [
    {
     "name": "stdout",
     "output_type": "stream",
     "text": [
      "Fitting 5 folds for each of 10 candidates, totalling 50 fits\n"
     ]
    },
    {
     "name": "stderr",
     "output_type": "stream",
     "text": [
      "[Parallel(n_jobs=20)]: Done  10 tasks      | elapsed:  3.6min\n"
     ]
    },
    {
     "ename": "KeyboardInterrupt",
     "evalue": "",
     "output_type": "error",
     "traceback": [
      "\u001b[0;31m---------------------------------------------------------------------------\u001b[0m",
      "\u001b[0;31mKeyboardInterrupt\u001b[0m                         Traceback (most recent call last)",
      "\u001b[0;32m<ipython-input-115-5f90060fbed3>\u001b[0m in \u001b[0;36m<module>\u001b[0;34m()\u001b[0m\n\u001b[1;32m      1\u001b[0m \u001b[0mstart\u001b[0m \u001b[0;34m=\u001b[0m \u001b[0mtime\u001b[0m\u001b[0;34m(\u001b[0m\u001b[0;34m)\u001b[0m\u001b[0;34m\u001b[0m\u001b[0m\n\u001b[0;32m----> 2\u001b[0;31m \u001b[0msearch\u001b[0m \u001b[0;34m=\u001b[0m \u001b[0mrandom_search\u001b[0m\u001b[0;34m.\u001b[0m\u001b[0mfit\u001b[0m\u001b[0;34m(\u001b[0m\u001b[0mX\u001b[0m\u001b[0;34m,\u001b[0m \u001b[0mY\u001b[0m\u001b[0;34m)\u001b[0m\u001b[0;34m\u001b[0m\u001b[0m\n\u001b[0m\u001b[1;32m      3\u001b[0m print(\"RandomizedSearchCV took %.2f seconds for %d candidates\"\n\u001b[1;32m      4\u001b[0m       \" parameter settings.\" % ((time() - start), n_iter_search))\n",
      "\u001b[0;32m/home/tseidakhmetov/anaconda2/lib/python2.7/site-packages/sklearn/grid_search.pyc\u001b[0m in \u001b[0;36mfit\u001b[0;34m(self, X, y)\u001b[0m\n\u001b[1;32m   1023\u001b[0m                                           \u001b[0mself\u001b[0m\u001b[0;34m.\u001b[0m\u001b[0mn_iter\u001b[0m\u001b[0;34m,\u001b[0m\u001b[0;34m\u001b[0m\u001b[0m\n\u001b[1;32m   1024\u001b[0m                                           random_state=self.random_state)\n\u001b[0;32m-> 1025\u001b[0;31m         \u001b[0;32mreturn\u001b[0m \u001b[0mself\u001b[0m\u001b[0;34m.\u001b[0m\u001b[0m_fit\u001b[0m\u001b[0;34m(\u001b[0m\u001b[0mX\u001b[0m\u001b[0;34m,\u001b[0m \u001b[0my\u001b[0m\u001b[0;34m,\u001b[0m \u001b[0msampled_params\u001b[0m\u001b[0;34m)\u001b[0m\u001b[0;34m\u001b[0m\u001b[0m\n\u001b[0m",
      "\u001b[0;32m/home/tseidakhmetov/anaconda2/lib/python2.7/site-packages/sklearn/grid_search.pyc\u001b[0m in \u001b[0;36m_fit\u001b[0;34m(self, X, y, parameter_iterable)\u001b[0m\n\u001b[1;32m    571\u001b[0m                                     \u001b[0mself\u001b[0m\u001b[0;34m.\u001b[0m\u001b[0mfit_params\u001b[0m\u001b[0;34m,\u001b[0m \u001b[0mreturn_parameters\u001b[0m\u001b[0;34m=\u001b[0m\u001b[0mTrue\u001b[0m\u001b[0;34m,\u001b[0m\u001b[0;34m\u001b[0m\u001b[0m\n\u001b[1;32m    572\u001b[0m                                     error_score=self.error_score)\n\u001b[0;32m--> 573\u001b[0;31m                 \u001b[0;32mfor\u001b[0m \u001b[0mparameters\u001b[0m \u001b[0;32min\u001b[0m \u001b[0mparameter_iterable\u001b[0m\u001b[0;34m\u001b[0m\u001b[0m\n\u001b[0m\u001b[1;32m    574\u001b[0m                 for train, test in cv)\n\u001b[1;32m    575\u001b[0m \u001b[0;34m\u001b[0m\u001b[0m\n",
      "\u001b[0;32m/home/tseidakhmetov/anaconda2/lib/python2.7/site-packages/sklearn/externals/joblib/parallel.pyc\u001b[0m in \u001b[0;36m__call__\u001b[0;34m(self, iterable)\u001b[0m\n\u001b[1;32m    766\u001b[0m                 \u001b[0;31m# consumption.\u001b[0m\u001b[0;34m\u001b[0m\u001b[0;34m\u001b[0m\u001b[0m\n\u001b[1;32m    767\u001b[0m                 \u001b[0mself\u001b[0m\u001b[0;34m.\u001b[0m\u001b[0m_iterating\u001b[0m \u001b[0;34m=\u001b[0m \u001b[0mFalse\u001b[0m\u001b[0;34m\u001b[0m\u001b[0m\n\u001b[0;32m--> 768\u001b[0;31m             \u001b[0mself\u001b[0m\u001b[0;34m.\u001b[0m\u001b[0mretrieve\u001b[0m\u001b[0;34m(\u001b[0m\u001b[0;34m)\u001b[0m\u001b[0;34m\u001b[0m\u001b[0m\n\u001b[0m\u001b[1;32m    769\u001b[0m             \u001b[0;31m# Make sure that we get a last message telling us we are done\u001b[0m\u001b[0;34m\u001b[0m\u001b[0;34m\u001b[0m\u001b[0m\n\u001b[1;32m    770\u001b[0m             \u001b[0melapsed_time\u001b[0m \u001b[0;34m=\u001b[0m \u001b[0mtime\u001b[0m\u001b[0;34m.\u001b[0m\u001b[0mtime\u001b[0m\u001b[0;34m(\u001b[0m\u001b[0;34m)\u001b[0m \u001b[0;34m-\u001b[0m \u001b[0mself\u001b[0m\u001b[0;34m.\u001b[0m\u001b[0m_start_time\u001b[0m\u001b[0;34m\u001b[0m\u001b[0m\n",
      "\u001b[0;32m/home/tseidakhmetov/anaconda2/lib/python2.7/site-packages/sklearn/externals/joblib/parallel.pyc\u001b[0m in \u001b[0;36mretrieve\u001b[0;34m(self)\u001b[0m\n\u001b[1;32m    717\u001b[0m                     \u001b[0mensure_ready\u001b[0m \u001b[0;34m=\u001b[0m \u001b[0mself\u001b[0m\u001b[0;34m.\u001b[0m\u001b[0m_managed_backend\u001b[0m\u001b[0;34m\u001b[0m\u001b[0m\n\u001b[1;32m    718\u001b[0m                     \u001b[0mbackend\u001b[0m\u001b[0;34m.\u001b[0m\u001b[0mabort_everything\u001b[0m\u001b[0;34m(\u001b[0m\u001b[0mensure_ready\u001b[0m\u001b[0;34m=\u001b[0m\u001b[0mensure_ready\u001b[0m\u001b[0;34m)\u001b[0m\u001b[0;34m\u001b[0m\u001b[0m\n\u001b[0;32m--> 719\u001b[0;31m                 \u001b[0;32mraise\u001b[0m \u001b[0mexception\u001b[0m\u001b[0;34m\u001b[0m\u001b[0m\n\u001b[0m\u001b[1;32m    720\u001b[0m \u001b[0;34m\u001b[0m\u001b[0m\n\u001b[1;32m    721\u001b[0m     \u001b[0;32mdef\u001b[0m \u001b[0m__call__\u001b[0m\u001b[0;34m(\u001b[0m\u001b[0mself\u001b[0m\u001b[0;34m,\u001b[0m \u001b[0miterable\u001b[0m\u001b[0;34m)\u001b[0m\u001b[0;34m:\u001b[0m\u001b[0;34m\u001b[0m\u001b[0m\n",
      "\u001b[0;31mKeyboardInterrupt\u001b[0m: "
     ]
    }
   ],
   "source": [
    "start = time()\n",
    "search = random_search.fit(X, Y)\n",
    "print(\"RandomizedSearchCV took %.2f seconds for %d candidates\"\n",
    "      \" parameter settings.\" % ((time() - start), n_iter_search))"
   ]
  },
  {
   "cell_type": "code",
   "execution_count": null,
   "metadata": {
    "collapsed": false
   },
   "outputs": [],
   "source": [
    "search.grid_scores_"
   ]
  },
  {
   "cell_type": "code",
   "execution_count": null,
   "metadata": {
    "collapsed": true
   },
   "outputs": [],
   "source": [
    "model = search.best_estimator_.fit(X, Y)"
   ]
  },
  {
   "cell_type": "code",
   "execution_count": null,
   "metadata": {
    "collapsed": false
   },
   "outputs": [],
   "source": [
    "loss(model, x_tr=X, y_tr=Y, x_val=x_validation, y_val=y_validation, proba=True)"
   ]
  },
  {
   "cell_type": "code",
   "execution_count": null,
   "metadata": {
    "collapsed": false
   },
   "outputs": [],
   "source": [
    "consistency(model)"
   ]
  },
  {
   "cell_type": "code",
   "execution_count": null,
   "metadata": {
    "collapsed": true
   },
   "outputs": [],
   "source": []
  },
  {
   "cell_type": "code",
   "execution_count": null,
   "metadata": {
    "collapsed": true
   },
   "outputs": [],
   "source": []
  },
  {
   "cell_type": "code",
   "execution_count": null,
   "metadata": {
    "collapsed": true
   },
   "outputs": [],
   "source": []
  }
 ],
 "metadata": {
  "kernelspec": {
   "display_name": "Python 2",
   "language": "python",
   "name": "python2"
  },
  "language_info": {
   "codemirror_mode": {
    "name": "ipython",
    "version": 2
   },
   "file_extension": ".py",
   "mimetype": "text/x-python",
   "name": "python",
   "nbconvert_exporter": "python",
   "pygments_lexer": "ipython2",
   "version": "2.7.13"
  }
 },
 "nbformat": 4,
 "nbformat_minor": 2
}
